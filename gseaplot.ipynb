{
 "cells": [
  {
   "cell_type": "code",
   "execution_count": 1,
   "metadata": {},
   "outputs": [
    {
     "name": "stdout",
     "output_type": "stream",
     "text": [
      "Collecting gseapy\n",
      "  Downloading gseapy-1.0.4-cp38-cp38-macosx_10_9_x86_64.whl (473 kB)\n",
      "\u001b[2K     \u001b[90m━━━━━━━━━━━━━━━━━━━━━━━━━━━━━━━━━━━━━\u001b[0m \u001b[32m473.5/473.5 KB\u001b[0m \u001b[31m222.4 kB/s\u001b[0m eta \u001b[36m0:00:00\u001b[0m00:01\u001b[0m00:01\u001b[0m\n",
      "\u001b[?25hRequirement already satisfied: numpy>=1.13.0 in /Users/choyeonju/miniconda3/lib/python3.8/site-packages (from gseapy) (1.21.2)\n",
      "Requirement already satisfied: scipy in /Users/choyeonju/miniconda3/lib/python3.8/site-packages (from gseapy) (1.7.3)\n",
      "Requirement already satisfied: requests in /Users/choyeonju/miniconda3/lib/python3.8/site-packages (from gseapy) (2.27.1)\n",
      "Requirement already satisfied: pandas in /Users/choyeonju/miniconda3/lib/python3.8/site-packages (from gseapy) (1.2.4)\n",
      "Requirement already satisfied: matplotlib>=2.2 in /Users/choyeonju/miniconda3/lib/python3.8/site-packages (from gseapy) (3.5.0)\n",
      "Requirement already satisfied: packaging>=20.0 in /Users/choyeonju/miniconda3/lib/python3.8/site-packages (from matplotlib>=2.2->gseapy) (21.3)\n",
      "Requirement already satisfied: fonttools>=4.22.0 in /Users/choyeonju/miniconda3/lib/python3.8/site-packages (from matplotlib>=2.2->gseapy) (4.25.0)\n",
      "Requirement already satisfied: cycler>=0.10 in /Users/choyeonju/miniconda3/lib/python3.8/site-packages (from matplotlib>=2.2->gseapy) (0.11.0)\n",
      "Requirement already satisfied: pyparsing>=2.2.1 in /Users/choyeonju/miniconda3/lib/python3.8/site-packages (from matplotlib>=2.2->gseapy) (3.0.4)\n",
      "Requirement already satisfied: kiwisolver>=1.0.1 in /Users/choyeonju/miniconda3/lib/python3.8/site-packages (from matplotlib>=2.2->gseapy) (1.3.1)\n",
      "Requirement already satisfied: pillow>=6.2.0 in /Users/choyeonju/miniconda3/lib/python3.8/site-packages (from matplotlib>=2.2->gseapy) (8.4.0)\n",
      "Requirement already satisfied: python-dateutil>=2.7 in /Users/choyeonju/miniconda3/lib/python3.8/site-packages (from matplotlib>=2.2->gseapy) (2.8.2)\n",
      "Requirement already satisfied: pytz>=2017.3 in /Users/choyeonju/miniconda3/lib/python3.8/site-packages (from pandas->gseapy) (2021.3)\n",
      "Requirement already satisfied: urllib3<1.27,>=1.21.1 in /Users/choyeonju/miniconda3/lib/python3.8/site-packages (from requests->gseapy) (1.26.8)\n",
      "Requirement already satisfied: idna<4,>=2.5 in /Users/choyeonju/miniconda3/lib/python3.8/site-packages (from requests->gseapy) (3.3)\n",
      "Requirement already satisfied: certifi>=2017.4.17 in /Users/choyeonju/miniconda3/lib/python3.8/site-packages (from requests->gseapy) (2021.10.8)\n",
      "Requirement already satisfied: charset-normalizer~=2.0.0 in /Users/choyeonju/miniconda3/lib/python3.8/site-packages (from requests->gseapy) (2.0.4)\n",
      "Requirement already satisfied: six>=1.5 in /Users/choyeonju/miniconda3/lib/python3.8/site-packages (from python-dateutil>=2.7->matplotlib>=2.2->gseapy) (1.16.0)\n",
      "Installing collected packages: gseapy\n",
      "Successfully installed gseapy-1.0.4\n",
      "\u001b[33mWARNING: You are using pip version 22.0.4; however, version 23.1.2 is available.\n",
      "You should consider upgrading via the '/Users/choyeonju/miniconda3/bin/python -m pip install --upgrade pip' command.\u001b[0m\u001b[33m\n",
      "\u001b[0m"
     ]
    }
   ],
   "source": [
    "#!pip install gseapy"
   ]
  },
  {
   "cell_type": "code",
   "execution_count": null,
   "metadata": {},
   "outputs": [],
   "source": [
    "import pandas as pd\n",
    "from gseapy.plot import gseaplot\n",
    "import gseapy as gp\n",
    "import numpy as np"
   ]
  },
  {
   "cell_type": "code",
   "execution_count": null,
   "metadata": {},
   "outputs": [],
   "source": [
    "df = pd.read_table('./output/fctable_all.txt')\n",
    "df"
   ]
  },
  {
   "cell_type": "code",
   "execution_count": null,
   "metadata": {},
   "outputs": [],
   "source": [
    "ranking = df[['GeneSymbol', 'log2Folchange']]\n",
    "ranking"
   ]
  },
  {
   "cell_type": "code",
   "execution_count": null,
   "metadata": {},
   "outputs": [],
   "source": [
    "ranking = ranking.dropna()\n",
    "ranking"
   ]
  },
  {
   "cell_type": "code",
   "execution_count": null,
   "metadata": {},
   "outputs": [],
   "source": [
    "gp.get_library_name()"
   ]
  },
  {
   "cell_type": "code",
   "execution_count": null,
   "metadata": {},
   "outputs": [],
   "source": [
    "pre_res = gp.prerank(rnk=ranking, gene_sets = 'GO_Biological_Process_2021', seed=0)"
   ]
  },
  {
   "cell_type": "code",
   "execution_count": null,
   "metadata": {},
   "outputs": [],
   "source": [
    "out = []\n",
    "\n",
    "for term in list(pre_res.results):\n",
    "    out.append([term,\n",
    "                pre_res.results[term]['fdr'],\n",
    "                pre_res.results[term]['es'],\n",
    "                pre_res.results[term]['nes']])\n",
    "\n",
    "out_df = pd.DataFrame(out, columns =['Term','fdr','es','nes']).sort_values('fdr').reset_index(drop=True)\n",
    "out_df"
   ]
  },
  {
   "cell_type": "code",
   "execution_count": null,
   "metadata": {},
   "outputs": [],
   "source": [
    "out_df['Term'][out_df['Term'].str.contains('R-HSA-2559')]"
   ]
  },
  {
   "cell_type": "code",
   "execution_count": null,
   "metadata": {},
   "outputs": [],
   "source": [
    "term_to_graph = out_df.iloc[5].Term\n",
    "term_to_graph"
   ]
  },
  {
   "cell_type": "code",
   "execution_count": null,
   "metadata": {},
   "outputs": [],
   "source": [
    "gseaplot(pre_res.ranking, term=term_to_graph, **pre_res.results[term_to_graph])"
   ]
  },
  {
   "attachments": {},
   "cell_type": "markdown",
   "metadata": {},
   "source": [
    "# Customized gmt set"
   ]
  },
  {
   "cell_type": "code",
   "execution_count": null,
   "metadata": {},
   "outputs": [],
   "source": [
    "import csv\n",
    "import itertools\n",
    "\n",
    "file = open('./gmt/SASP.csv','r')\n",
    "user_gmt = list(csv.reader(file, delimiter='\\t'))\n",
    "file.close()\n",
    "\n",
    "user_gmt = list(itertools.chain.from_iterable(user_gmt))\n",
    "user_gmt"
   ]
  },
  {
   "cell_type": "code",
   "execution_count": 2,
   "metadata": {},
   "outputs": [],
   "source": [
    "user_set = {'SASP': user_gmt}\n",
    "user_set"
   ]
  },
  {
   "cell_type": "code",
   "execution_count": null,
   "metadata": {},
   "outputs": [],
   "source": [
    "pre_res = gp.prerank(rnk=ranking, gene_sets = user_set, seed=0, min_size=1, max_size=5000)"
   ]
  },
  {
   "cell_type": "code",
   "execution_count": null,
   "metadata": {},
   "outputs": [],
   "source": [
    "gseaplot(pre_res.ranking, term='SASP', **pre_res.results['SASP'])"
   ]
  }
 ],
 "metadata": {
  "kernelspec": {
   "display_name": "base",
   "language": "python",
   "name": "python3"
  },
  "language_info": {
   "codemirror_mode": {
    "name": "ipython",
    "version": 3
   },
   "file_extension": ".py",
   "mimetype": "text/x-python",
   "name": "python",
   "nbconvert_exporter": "python",
   "pygments_lexer": "ipython3",
   "version": "3.8.2"
  },
  "orig_nbformat": 4
 },
 "nbformat": 4,
 "nbformat_minor": 2
}
